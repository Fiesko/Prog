{
 "cells": [
  {
   "cell_type": "code",
   "execution_count": null,
   "metadata": {},
   "outputs": [
    {
     "name": "stdout",
     "output_type": "stream",
     "text": [
      "Число полных лет:  20\n"
     ]
    }
   ],
   "source": [
    "\n",
    "# Задание task_02_04.\n",
    "#\n",
    "# Выполнил: Малеванный И.Б.\n",
    "# Группа: ЦИБ-241\n",
    "\n",
    "\n",
    "\n",
    "year_today = int(input(\"Введите текущий год:\"))\n",
    "month_today = int(input(\"Введите текущий месяц:\"))\n",
    "\n",
    "year = int(input(\"Введите год рождения:\"))\n",
    "month = int(input(\"Введите месяц рождения:\"))\n",
    "\n",
    "# Считается, введенные значения находятся в допустимых пределах,и\n",
    "# что 'month_today' >= 'month' (проверять значения не нужно)\n",
    "# Результат необходимо записать в переменную 'age'\n",
    "\n",
    "age = year_today - year\n",
    "if month_today < month:\n",
    "    age = age -1\n",
    "else:\n",
    "    age = age\n",
    "\n",
    "\n",
    "print(\"Число полных лет: \", age)\n",
    "\n",
    "# --------------\n",
    "# Пример вывода:\n",
    "#\n",
    "# Введите текущий год: 2017\n",
    "# Введите текущий месяц: 5\n",
    "# Введите год рождения: 2000\n",
    "# Введите месяц рождения: 1\n",
    "# Число полных лет:  17\n",
    "#\n",
    "# Введите текущий год: 2015\n",
    "# Введите текущий месяц: 6\n",
    "# Введите год рождения: 2010\n",
    "# Введите месяц рождения: 8\n",
    "# Число полных лет:  4\n",
    "#\n",
    "# Введите текущий год: 2020\n",
    "# Введите текущий месяц: 5\n",
    "# Введите год рождения: 2000\n",
    "# Введите месяц рождения: 5\n",
    "# Число полных лет:  20"
   ]
  }
 ],
 "metadata": {
  "kernelspec": {
   "display_name": "Python 3",
   "language": "python",
   "name": "python3"
  },
  "language_info": {
   "codemirror_mode": {
    "name": "ipython",
    "version": 3
   },
   "file_extension": ".py",
   "mimetype": "text/x-python",
   "name": "python",
   "nbconvert_exporter": "python",
   "pygments_lexer": "ipython3",
   "version": "3.12.0"
  }
 },
 "nbformat": 4,
 "nbformat_minor": 2
}
