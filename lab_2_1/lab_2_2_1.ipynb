{
 "cells": [
  {
   "cell_type": "code",
   "execution_count": null,
   "metadata": {},
   "outputs": [
    {
     "name": "stdout",
     "output_type": "stream",
     "text": [
      "Введите число x:  -10.0\n",
      "f =  -0.1\n",
      "Введите число x:  0.0\n",
      "f =  0.0\n",
      "Введите число x:  10.0\n",
      "f =  103.16\n"
     ]
    }
   ],
   "source": [
    "\n",
    "# Задание task_02_01.\n",
    "#\n",
    "# Выполнил: Малеванный И.Б.\n",
    "# Группа: ЦИБ-241\n",
    "\n",
    "\n",
    "\n",
    "x = float(input('Введите число x: '))\n",
    "if x >= 0:\n",
    "    f = (x**(1/2)) + (x**2)\n",
    "else:\n",
    "    f = 1 / x\n",
    "\n",
    "print('Введите число x: ',x)\n",
    "print('f = ',round(f,2))\n",
    "\n",
    "\n",
    "\n",
    "# --------------\n",
    "# Пример вывода:\n",
    "#\n",
    "# Введите число x: -10\n",
    "# f = -0.10\n",
    "\n",
    "# Введите число x: 0\n",
    "# f = 0.00\n",
    "\n",
    "# Введите число x: 10\n",
    "# f = 103.16"
   ]
  }
 ],
 "metadata": {
  "kernelspec": {
   "display_name": "Python 3",
   "language": "python",
   "name": "python3"
  },
  "language_info": {
   "codemirror_mode": {
    "name": "ipython",
    "version": 3
   },
   "file_extension": ".py",
   "mimetype": "text/x-python",
   "name": "python",
   "nbconvert_exporter": "python",
   "pygments_lexer": "ipython3",
   "version": "3.12.0"
  }
 },
 "nbformat": 4,
 "nbformat_minor": 2
}
