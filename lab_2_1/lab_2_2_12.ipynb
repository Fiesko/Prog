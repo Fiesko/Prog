{
 "cells": [
  {
   "cell_type": "code",
   "execution_count": null,
   "metadata": {},
   "outputs": [
    {
     "name": "stdout",
     "output_type": "stream",
     "text": [
      "a = 5\n",
      "b = 1\n",
      "1 2 3 4 5\n",
      "5\n",
      "4\n",
      "3\n",
      "2\n",
      "1\n"
     ]
    }
   ],
   "source": [
    "# Задание task_02_12.\n",
    "#\n",
    "# Выполнил: Малеванный И.Б.\n",
    "# Группа: ЦИБ-241\n",
    "\n",
    "\n",
    "\n",
    "a = int(input(\"a = \"))\n",
    "b = int(input(\"b = \"))\n",
    "\n",
    "if a < b:\n",
    "    c=list(range(a,b+1,1))\n",
    "    print(*c)\n",
    "    c.reverse()\n",
    "    for i in c:\n",
    "        print(i)\n",
    "else:\n",
    "    c=list(range(b,a+1,1))\n",
    "    print(*c)\n",
    "    c.reverse()\n",
    "    for i in c:\n",
    "        print(i)\n",
    "\n",
    "\n",
    "\n",
    "\n",
    "\n",
    "\n",
    "\n",
    "# --------------\n",
    "# Пример вывода:\n",
    "#\n",
    "# a = 1\n",
    "# b = 5\n",
    "# 1 2 3 4 5\n",
    "# 5\n",
    "# 4\n",
    "# 3\n",
    "# 2\n",
    "# 1\n"
   ]
  }
 ],
 "metadata": {
  "kernelspec": {
   "display_name": "Python 3",
   "language": "python",
   "name": "python3"
  },
  "language_info": {
   "codemirror_mode": {
    "name": "ipython",
    "version": 3
   },
   "file_extension": ".py",
   "mimetype": "text/x-python",
   "name": "python",
   "nbconvert_exporter": "python",
   "pygments_lexer": "ipython3",
   "version": "3.11.9"
  }
 },
 "nbformat": 4,
 "nbformat_minor": 2
}
