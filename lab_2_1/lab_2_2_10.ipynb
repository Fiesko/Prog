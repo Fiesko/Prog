{
 "cells": [
  {
   "cell_type": "code",
   "execution_count": 1,
   "metadata": {},
   "outputs": [
    {
     "name": "stdout",
     "output_type": "stream",
     "text": [
      "Сумма =  15\n",
      "Количество =  5\n"
     ]
    }
   ],
   "source": [
    "\n",
    "# Задание task_02_10.\n",
    "#\n",
    "# Выполнил: Малеванный И.Б.\n",
    "# Группа: ЦИБ-241\n",
    "\n",
    "\n",
    "\n",
    "n = int(input('n = '))\n",
    "\n",
    "n_sum = 0\n",
    "n_count = 0\n",
    "\n",
    "while n > 0:\n",
    "  last_num = n % 10\n",
    "  n_sum += last_num\n",
    "  n_count += 1\n",
    "  n = n // 10\n",
    "print('Сумма = ', n_sum)\n",
    "print('Количество = ', n_count)\n",
    "\n",
    "\n",
    "# --------------\n",
    "# Пример вывода:\n",
    "#\n",
    "# n = 12345\n",
    "# Сумма = 15\n",
    "# Количество = 5"
   ]
  }
 ],
 "metadata": {
  "kernelspec": {
   "display_name": "Python 3",
   "language": "python",
   "name": "python3"
  },
  "language_info": {
   "codemirror_mode": {
    "name": "ipython",
    "version": 3
   },
   "file_extension": ".py",
   "mimetype": "text/x-python",
   "name": "python",
   "nbconvert_exporter": "python",
   "pygments_lexer": "ipython3",
   "version": "3.11.9"
  }
 },
 "nbformat": 4,
 "nbformat_minor": 2
}
