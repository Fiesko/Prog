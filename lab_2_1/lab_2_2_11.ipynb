{
 "cells": [
  {
   "cell_type": "code",
   "execution_count": null,
   "metadata": {},
   "outputs": [
    {
     "name": "stdout",
     "output_type": "stream",
     "text": [
      "117 207 297 387 477 567 657 747 837 927 "
     ]
    }
   ],
   "source": [
    "# Задание task_02_11.\n",
    "#\n",
    "# Выполнил: Малеванный И.Б.\n",
    "# Группа: ЦИБ-241\n",
    "\n",
    "\n",
    "start = int(input(\"start = \"))\n",
    "k = int(input(\"k = \"))\n",
    "s = int(input(\"s = \"))\n",
    "n_count = 0\n",
    "n = start\n",
    "\n",
    "while n_count < 10:\n",
    "    if n % 10 == k and n % s == 0:\n",
    "        print(n, end=\" \")\n",
    "        n_count += 1\n",
    "    n += 1\n",
    "\n",
    "\n",
    "# --------------\n",
    "# Пример вывода:\n",
    "#\n",
    "# start = 100\n",
    "# k = 7\n",
    "# s = 9\n",
    "# 117 207 297 387 477 567 657 747 837 927\n"
   ]
  }
 ],
 "metadata": {
  "kernelspec": {
   "display_name": "Python 3",
   "language": "python",
   "name": "python3"
  },
  "language_info": {
   "codemirror_mode": {
    "name": "ipython",
    "version": 3
   },
   "file_extension": ".py",
   "mimetype": "text/x-python",
   "name": "python",
   "nbconvert_exporter": "python",
   "pygments_lexer": "ipython3",
   "version": "3.11.9"
  }
 },
 "nbformat": 4,
 "nbformat_minor": 2
}
