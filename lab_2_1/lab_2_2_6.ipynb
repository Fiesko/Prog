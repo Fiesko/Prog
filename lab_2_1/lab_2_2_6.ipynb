{
 "cells": [
  {
   "cell_type": "code",
   "execution_count": null,
   "metadata": {},
   "outputs": [
    {
     "name": "stdout",
     "output_type": "stream",
     "text": [
      "a =  1.0\n",
      "b =  3.0\n",
      "c =  -4.0\n",
      "x1 =  -4.0 x2 =  1.0\n"
     ]
    }
   ],
   "source": [
    "\n",
    "# Задание task_02_06.\n",
    "#\n",
    "# Выполнил: Малеванный И.Б.\n",
    "# Группа: ЦИБ-241\n",
    "\n",
    "\n",
    "\n",
    "a = float(input('a = '))\n",
    "b = float(input('b = '))\n",
    "c = float(input('c = '))\n",
    "\n",
    "# Расчет дискриминанта\n",
    "D = b**2-4*a*c\n",
    "\n",
    "# Вывод решения в зависимости от значения дискриминанта\n",
    "if D < 0:\n",
    "    print(\"Решений нет\")\n",
    "elif D == 0:\n",
    "    x=-b/2*a\n",
    "    print(\"x = \", round(x,1))\n",
    "else:\n",
    "    x1=(-b-D**(1/2))/2*a\n",
    "    x2=(-b+D**(1/2))/2*a\n",
    "    print(\"x1 = \", round(x1,1),'x2 = ', round(x2,1))\n",
    "# При выводе значений оставьте 1 знак после запятой\n",
    "# Удалите комментарий и допишите код\n",
    "\n",
    "# --------------\n",
    "# Пример вывода:\n",
    "#\n",
    "# a = 1\n",
    "# b = 2\n",
    "# c = 3\n",
    "# Решений нет\n",
    "#\n",
    "# a = 1\n",
    "# b = 2\n",
    "# c = 1\n",
    "# x = -1.0\n",
    "#\n",
    "# a = 1\n",
    "# b = 3\n",
    "# c = -4\n",
    "# x1 = -4.0, x2 = 1.0"
   ]
  }
 ],
 "metadata": {
  "kernelspec": {
   "display_name": "Python 3",
   "language": "python",
   "name": "python3"
  },
  "language_info": {
   "codemirror_mode": {
    "name": "ipython",
    "version": 3
   },
   "file_extension": ".py",
   "mimetype": "text/x-python",
   "name": "python",
   "nbconvert_exporter": "python",
   "pygments_lexer": "ipython3",
   "version": "3.12.0"
  }
 },
 "nbformat": 4,
 "nbformat_minor": 2
}
