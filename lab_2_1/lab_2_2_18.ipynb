{
 "cells": [
  {
   "cell_type": "code",
   "execution_count": null,
   "metadata": {},
   "outputs": [
    {
     "name": "stdout",
     "output_type": "stream",
     "text": [
      "7 9\n"
     ]
    }
   ],
   "source": [
    "\n",
    "# Задание task_02_18.\n",
    "#\n",
    "# Выполнил: Малеванный И.Б.\n",
    "# Группа: ЦИБ-241\n",
    "\n",
    "gl = \"аеёиоуыэюяАЕЁИОУЫЭЮЯ\"\n",
    "sogl = \"бвгджзйклмнпрстфхцчшщБВГДЖЗЙКЛМНПРСТФХЦЧШЩ\"\n",
    "\n",
    "sentence = str(input())\n",
    "\n",
    "count_gl = 0  # Кол-во гласных\n",
    "count_sogl = 0  # Кол-во согласных\n",
    "\n",
    "\n",
    "for i in sentence:  \n",
    "    if i == ' ':\n",
    "        continue\n",
    "    if i in gl:\n",
    "        count_gl+=1\n",
    "    if i in sogl:\n",
    "        count_sogl+=1\n",
    "print(count_gl,count_sogl)\n",
    "\n",
    "# Удалите комментарий и допишите код\n",
    "\n",
    "# --------------\n",
    "# Пример вывода:\n",
    "#\n",
    "# Введите предложение: Программирование\n",
    "# Кол-во букв в предложении: гласных - 7, согласных - 9"
   ]
  }
 ],
 "metadata": {
  "kernelspec": {
   "display_name": "Python 3",
   "language": "python",
   "name": "python3"
  },
  "language_info": {
   "codemirror_mode": {
    "name": "ipython",
    "version": 3
   },
   "file_extension": ".py",
   "mimetype": "text/x-python",
   "name": "python",
   "nbconvert_exporter": "python",
   "pygments_lexer": "ipython3",
   "version": "3.12.0"
  }
 },
 "nbformat": 4,
 "nbformat_minor": 2
}
