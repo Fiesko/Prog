{
 "cells": [
  {
   "cell_type": "code",
   "execution_count": null,
   "metadata": {},
   "outputs": [
    {
     "name": "stdout",
     "output_type": "stream",
     "text": [
      "Нет\n"
     ]
    }
   ],
   "source": [
    "# Задание task_02_15.\n",
    "#\n",
    "# Выполнил: Малеванный И.Б.\n",
    "# Группа: ЦИБ-241\n",
    "\n",
    "\n",
    "\n",
    "p = int(input('Грузоподъемность грузовика (кг.) = '))\n",
    "n = int(input('Количество предметов = '))\n",
    "\n",
    "total = 0\n",
    "for i in range(n):\n",
    "  weight = int(input('Масса {}-го предмета (кг.) = '.format(i+1)))\n",
    "  total = total + weight\n",
    "\n",
    "if total < p:\n",
    "  print('Да')\n",
    "else:\n",
    "  print('Нет')\n",
    "# --------------\n",
    "# Пример вывода:\n",
    "#\n",
    "# Грузоподъемность грузовика (кг.) = 10\n",
    "# Количество предметов = 2\n",
    "# Масса 1-го предмета (кг.) = 3\n",
    "# Масса 2-го предмета (кг.) = 3\n",
    "# Да"
   ]
  }
 ],
 "metadata": {
  "kernelspec": {
   "display_name": "Python 3",
   "language": "python",
   "name": "python3"
  },
  "language_info": {
   "codemirror_mode": {
    "name": "ipython",
    "version": 3
   },
   "file_extension": ".py",
   "mimetype": "text/x-python",
   "name": "python",
   "nbconvert_exporter": "python",
   "pygments_lexer": "ipython3",
   "version": "3.12.0"
  }
 },
 "nbformat": 4,
 "nbformat_minor": 2
}
