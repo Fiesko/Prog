{
 "cells": [
  {
   "cell_type": "code",
   "execution_count": null,
   "metadata": {},
   "outputs": [
    {
     "name": "stdout",
     "output_type": "stream",
     "text": [
      "4-я четверть\n"
     ]
    }
   ],
   "source": [
    "\n",
    "# Задание task_02_05.\n",
    "#\n",
    "# Выполнил: Малеванный И.Б.\n",
    "# Группа: ЦИБ-241\n",
    "\n",
    "\n",
    "\n",
    "x = int(input(\"Введите координату x:\"))\n",
    "y = int(input(\"Введите координату y:\"))\n",
    "\n",
    "if x > 0 and y >0:\n",
    "    print(\"1-я четверть\")\n",
    "elif x < 0 and y > 0:\n",
    "    print(\"2-я четверть\")\n",
    "elif x < 0 and y < 0:\n",
    "    print(\"3-я четверть\")\n",
    "elif x > 0 and y < 0:\n",
    "    print(\"4-я четверть\")\n",
    "\n",
    "\n",
    "# Удалите комментарий и допишите код\n",
    "\n",
    "# --------------\n",
    "# Пример вывода:\n",
    "#\n",
    "# Введите координату x: 5\n",
    "# Введите координату y: 7\n",
    "# 1-я четверть"
   ]
  }
 ],
 "metadata": {
  "kernelspec": {
   "display_name": "Python 3",
   "language": "python",
   "name": "python3"
  },
  "language_info": {
   "codemirror_mode": {
    "name": "ipython",
    "version": 3
   },
   "file_extension": ".py",
   "mimetype": "text/x-python",
   "name": "python",
   "nbconvert_exporter": "python",
   "pygments_lexer": "ipython3",
   "version": "3.12.0"
  }
 },
 "nbformat": 4,
 "nbformat_minor": 2
}
