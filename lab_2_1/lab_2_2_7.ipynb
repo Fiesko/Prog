{
 "cells": [
  {
   "cell_type": "code",
   "execution_count": null,
   "metadata": {},
   "outputs": [
    {
     "name": "stdout",
     "output_type": "stream",
     "text": [
      "Сумма =  28\n",
      "Количество =  8\n"
     ]
    }
   ],
   "source": [
    "\n",
    "# Задание task_02_07.\n",
    "#\n",
    "# Выполнил: Малеванный И.Б.\n",
    "# Группа: ЦИБ-241\n",
    "\n",
    "\n",
    "\n",
    "nums_sum = 0  # сумма\n",
    "nums_count = 0  # количество\n",
    "nums_count = nums_count + 1\n",
    "x = int(input(f'Вdедите {nums_count}-е число:'))\n",
    "nums_sum = nums_sum + x\n",
    "while x != 0:\n",
    "    nums_count += 1\n",
    "    x = int(input(f'Вdедите {nums_count}-е число:' ))\n",
    "    nums_sum += x\n",
    "\n",
    "    \n",
    "\n",
    "print(\"Сумма = \", nums_sum)\n",
    "print(\"Количество = \", nums_count)\n",
    "\n",
    "# --------------\n",
    "# Пример вывода:\n",
    "#\n",
    "# Введите 1-е число: 1\n",
    "# Введите 2-е число: 2\n",
    "# Введите 3-е число: 3\n",
    "# Введите 4-е число: 4\n",
    "# Введите 5-е число: 0\n",
    "# Сумма = 10\n",
    "# Количество = 4\n",
    "#\n",
    "# Введите 1-е число: 0\n",
    "# Сумма = 0\n",
    "# Количество = 0"
   ]
  }
 ],
 "metadata": {
  "kernelspec": {
   "display_name": "Python 3",
   "language": "python",
   "name": "python3"
  },
  "language_info": {
   "codemirror_mode": {
    "name": "ipython",
    "version": 3
   },
   "file_extension": ".py",
   "mimetype": "text/x-python",
   "name": "python",
   "nbconvert_exporter": "python",
   "pygments_lexer": "ipython3",
   "version": "3.12.0"
  }
 },
 "nbformat": 4,
 "nbformat_minor": 2
}
