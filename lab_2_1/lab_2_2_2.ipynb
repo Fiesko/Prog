{
 "cells": [
  {
   "cell_type": "code",
   "execution_count": 8,
   "metadata": {},
   "outputs": [
    {
     "name": "stdout",
     "output_type": "stream",
     "text": [
      "Ведите первое число:  1\n",
      "Ведите второе число:  2\n",
      "Максимум:  2 Минимум:  1\n"
     ]
    }
   ],
   "source": [
    "# Программирование на языке высокого уровня (Python).\n",
    "# https://www.yuripetrov.ru/edu/python\n",
    "# Задание task_02_02.\n",
    "#\n",
    "# Выполнил: Малеванный И.Б.\n",
    "# Группа: ЦИБ-241\n",
    "# E-mail: !!!\n",
    "\n",
    "\n",
    "a1 = int(input(\"Введите первое число: \"))\n",
    "a2 = int(input(\"Введите второе число: \"))\n",
    "\n",
    "# Переменная 'a_min' должна содержать минимум, 'a_max' - максимум\n",
    "if a1 > a2:\n",
    "    a_max = a1\n",
    "    a_min = a2\n",
    "else:\n",
    "    a_max = a2\n",
    "    a_min = a1\n",
    "print('Ведите первое число: ',a1)\n",
    "print('Ведите второе число: ',a2)\n",
    "print(\"Максимум: \", a_max, \"Минимум: \", a_min)\n",
    "\n",
    "# --------------\n",
    "# Пример вывода:\n",
    "#\n",
    "# Введите первое число: 1\n",
    "# Введите второе число: 2\n",
    "# Максимум: 2, минимум: 1\n",
    "\n",
    "# Введите первое число: 5\n",
    "# Введите второе число: 5\n",
    "# Максимум: 5, минимум: 5\n",
    "\n",
    "# Введите первое число: 100\n",
    "# Введите второе число: -1\n",
    "# Максимум: 100, минимум: -1"
   ]
  }
 ],
 "metadata": {
  "kernelspec": {
   "display_name": "Python 3",
   "language": "python",
   "name": "python3"
  },
  "language_info": {
   "codemirror_mode": {
    "name": "ipython",
    "version": 3
   },
   "file_extension": ".py",
   "mimetype": "text/x-python",
   "name": "python",
   "nbconvert_exporter": "python",
   "pygments_lexer": "ipython3",
   "version": "3.12.0"
  }
 },
 "nbformat": 4,
 "nbformat_minor": 2
}
