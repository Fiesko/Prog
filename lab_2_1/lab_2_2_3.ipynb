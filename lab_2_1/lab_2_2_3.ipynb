{
 "cells": [
  {
   "cell_type": "code",
   "execution_count": null,
   "metadata": {},
   "outputs": [
    {
     "name": "stdout",
     "output_type": "stream",
     "text": [
      "Ширина форточки:  5\n",
      "Высота форточки:  6\n",
      "Диаметр головы:  6\n",
      "Нет\n"
     ]
    }
   ],
   "source": [
    "\n",
    "# Задание task_02_03.\n",
    "#\n",
    "# Выполнил: Малеванный И.Б.\n",
    "# Группа: ЦИБ-241\n",
    "\n",
    "\n",
    "\n",
    "a = int(input(\"Ширина форточки:\"))\n",
    "b = int(input(\"Высота форточки:\"))\n",
    "d = int(input(\"Диаметр головы:\"))\n",
    "\n",
    "\n",
    "\n",
    "# Введенные числа должны быть положительными, если так - осуществляем\n",
    "# расчет, иначе выводим \"Проверьте ввод\"\n",
    "if a > 0 and b > 0 and d > 0:\n",
    "    fix = 1  # Зазор\n",
    "    a = a - 2\n",
    "    b = b - 2\n",
    "    c1 = a**2 + b**2\n",
    "    c=c1**(1/2)\n",
    "    # Вывести \"Да\" или \"Нет\"\n",
    "    if d <=c:\n",
    "        print('Да')\n",
    "    else:\n",
    "        print('Нет')\n",
    "else:\n",
    "    print('Проверьте ввод')\n",
    "\n",
    "# --------------\n",
    "# Пример вывода:\n",
    "#\n",
    "# Ширина форточки: 5\n",
    "# Высота форточки: 6\n",
    "# Диаметр головы: 6\n",
    "# Нет\n",
    "\n",
    "# Ширина форточки: 6\n",
    "# Высота форточки: 7\n",
    "# Диаметр головы: 4\n",
    "# Да"
   ]
  }
 ],
 "metadata": {
  "kernelspec": {
   "display_name": "Python 3",
   "language": "python",
   "name": "python3"
  },
  "language_info": {
   "codemirror_mode": {
    "name": "ipython",
    "version": 3
   },
   "file_extension": ".py",
   "mimetype": "text/x-python",
   "name": "python",
   "nbconvert_exporter": "python",
   "pygments_lexer": "ipython3",
   "version": "3.12.0"
  }
 },
 "nbformat": 4,
 "nbformat_minor": 2
}
