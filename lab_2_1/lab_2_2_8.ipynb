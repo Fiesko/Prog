{
 "cells": [
  {
   "cell_type": "code",
   "execution_count": null,
   "metadata": {},
   "outputs": [
    {
     "name": "stdout",
     "output_type": "stream",
     "text": [
      "n =  10\n",
      "0\n",
      "5\n",
      "10\n"
     ]
    }
   ],
   "source": [
    "\n",
    "# Задание task_02_08.\n",
    "#\n",
    "# Выполнил: Малеванный И.Б.\n",
    "# Группа: ЦИБ-241\n",
    "\n",
    "\n",
    "\n",
    "n = int(input('n = '))\n",
    "\n",
    "for i in range(0,n+1,5):\n",
    "      print(i)\n",
    "\n",
    "\n",
    "# --------------\n",
    "# Пример вывода:\n",
    "#\n",
    "# n = 0\n",
    "# 0\n",
    "#\n",
    "# n = 10\n",
    "# 0\n",
    "# 5\n",
    "# 10\n",
    "#\n",
    "# n = 12\n",
    "# 0\n",
    "# 5\n",
    "# 10"
   ]
  }
 ],
 "metadata": {
  "kernelspec": {
   "display_name": "Python 3",
   "language": "python",
   "name": "python3"
  },
  "language_info": {
   "codemirror_mode": {
    "name": "ipython",
    "version": 3
   },
   "file_extension": ".py",
   "mimetype": "text/x-python",
   "name": "python",
   "nbconvert_exporter": "python",
   "pygments_lexer": "ipython3",
   "version": "3.12.0"
  }
 },
 "nbformat": 4,
 "nbformat_minor": 2
}
