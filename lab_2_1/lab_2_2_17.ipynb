{
 "cells": [
  {
   "cell_type": "code",
   "execution_count": null,
   "metadata": {},
   "outputs": [
    {
     "name": "stdout",
     "output_type": "stream",
     "text": [
      "Сумма =  10\n",
      "Количество =  4\n"
     ]
    }
   ],
   "source": [
    "\n",
    "# Задание task_02_17.\n",
    "#\n",
    "# Выполнил: Малеванный И.Б.\n",
    "# Группа: ЦИБ-241\n",
    "\n",
    "\n",
    "\n",
    "nums_sum = 0  # сумма\n",
    "nums_count = 0  # количество\n",
    "\n",
    "while True:\n",
    "    a = int(input(\"Введите {}-е число: \".format(nums_count+1)))\n",
    "    nums_count+=1\n",
    "    nums_sum+=a\n",
    "    if a == 0:\n",
    "        nums_count = nums_count - 1\n",
    "        break\n",
    "print(\"Сумма = \", nums_sum)\n",
    "print(\"Количество = \", nums_count)\n",
    "# --------------\n",
    "# Пример вывода:\n",
    "#\n",
    "# Введите 1-е число: 1\n",
    "# Введите 2-е число: 2\n",
    "# Введите 3-е число: 3\n",
    "# Введите 4-е число: 4\n",
    "# Введите 5-е число: 0\n",
    "# Сумма = 10\n",
    "# Количество = 4\n",
    "#\n",
    "# Введите 1-е число: 0\n",
    "# Сумма = 0\n",
    "# Количество = 0"
   ]
  }
 ],
 "metadata": {
  "kernelspec": {
   "display_name": "Python 3",
   "language": "python",
   "name": "python3"
  },
  "language_info": {
   "codemirror_mode": {
    "name": "ipython",
    "version": 3
   },
   "file_extension": ".py",
   "mimetype": "text/x-python",
   "name": "python",
   "nbconvert_exporter": "python",
   "pygments_lexer": "ipython3",
   "version": "3.12.0"
  }
 },
 "nbformat": 4,
 "nbformat_minor": 2
}
