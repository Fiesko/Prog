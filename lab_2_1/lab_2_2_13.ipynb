{
 "cells": [
  {
   "cell_type": "code",
   "execution_count": null,
   "metadata": {},
   "outputs": [
    {
     "name": "stdout",
     "output_type": "stream",
     "text": [
      "a =  1\n",
      "b =  5\n",
      "Сумма = 15\n",
      "Произведение = 120\n",
      "Среднее арифметическое = 3.0\n",
      "Среднее геометрическое нечетных чисел = 2.47\n"
     ]
    }
   ],
   "source": [
    "# Программирование на языке высокого уровня (Python).\n",
    "# https://www.yuripetrov.ru/edu/python\n",
    "# Задание task_02_13.\n",
    "#\n",
    "# Выполнил: Малеванный И.Б.\n",
    "# Группа: ЦИБ-241\n",
    "\n",
    "\n",
    "a = int(input(\"a = \"))\n",
    "b = int(input(\"b = \"))\n",
    "\n",
    "if a < b:\n",
    "    n_mult = 1\n",
    "    c=list(range(a,b+1))\n",
    "    n_sum=sum(c)\n",
    "    n_nechet = 1\n",
    "    for i in c:\n",
    "        n_mult *= i\n",
    "    n_avg=float(n_sum/len(c))\n",
    "\n",
    "\n",
    "    nechet=c[0::2]\n",
    "    for i in nechet:\n",
    "        n_nechet *= i\n",
    "    n_avg_geom=float(n_nechet**(1/len(nechet)))\n",
    "\n",
    "    print(\"Сумма =\", n_sum)\n",
    "    print(\"Произведение =\", n_mult)\n",
    "    print(\"Среднее арифметическое = {}\".format(round(n_avg,2)))\n",
    "    print(\"Среднее геометрическое нечетных чисел = {}\".format(round(n_avg_geom,2)))\n",
    "else:\n",
    "    print(\"Целых чисел в промежутке от a до b не существует или b > a\")\n",
    "\n",
    "# --------------\n",
    "# Пример вывода:\n",
    "#\n",
    "# a = 1\n",
    "# b = 5\n",
    "# Сумма = 15\n",
    "# Произведение = 120\n",
    "# Среднее арифметическое = 3.00\n",
    "# Среднее геометрическое нечетных чисел = 2.47"
   ]
  }
 ],
 "metadata": {
  "kernelspec": {
   "display_name": "Python 3",
   "language": "python",
   "name": "python3"
  },
  "language_info": {
   "codemirror_mode": {
    "name": "ipython",
    "version": 3
   },
   "file_extension": ".py",
   "mimetype": "text/x-python",
   "name": "python",
   "nbconvert_exporter": "python",
   "pygments_lexer": "ipython3",
   "version": "3.12.0"
  }
 },
 "nbformat": 4,
 "nbformat_minor": 2
}
