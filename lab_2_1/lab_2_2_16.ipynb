{
 "cells": [
  {
   "cell_type": "code",
   "execution_count": null,
   "metadata": {},
   "outputs": [
    {
     "name": "stdout",
     "output_type": "stream",
     "text": [
      "Собрано пшеницы: 65.0 ц\n"
     ]
    }
   ],
   "source": [
    "\n",
    "# Задание task_02_16.\n",
    "#\n",
    "# Выполнил: Малеванный И.Б.\n",
    "# Группа: ЦИБ-241\n",
    "\n",
    "\n",
    "\n",
    "n = int(input())\n",
    "\n",
    "total = 0\n",
    "for i in range(n):\n",
    "    a = float(input(\"Площадь {}-го района (га)\".format(i+1)))\n",
    "    b = float(input(\"Урожайность в {}-м районе (ц/га)\".format(i+1)))\n",
    "    total=total+(a*b)\n",
    "    total=float(round(total,1))\n",
    "\n",
    "\n",
    "\n",
    "\n",
    "print(\"Собрано пшеницы:\", total, \"ц\")\n",
    "\n",
    "\n",
    "\n",
    "# --------------\n",
    "# Пример вывода:\n",
    "#\n",
    "# Количество районов = 3\n",
    "# Площадь 1-го района (га) = 4\n",
    "# Урожайность в 1-м районе (ц/га.) = 2\n",
    "# Площадь 2-го района (га) = 7\n",
    "# Урожайность в 2-м районе (ц/га.) = 3\n",
    "# Площадь 3-го района (га) = 9\n",
    "# Урожайность в 3-м районе (ц/га.) = 4\n",
    "# Собрано пшеницы: 65.0 ц."
   ]
  }
 ],
 "metadata": {
  "kernelspec": {
   "display_name": "Python 3",
   "language": "python",
   "name": "python3"
  },
  "language_info": {
   "codemirror_mode": {
    "name": "ipython",
    "version": 3
   },
   "file_extension": ".py",
   "mimetype": "text/x-python",
   "name": "python",
   "nbconvert_exporter": "python",
   "pygments_lexer": "ipython3",
   "version": "3.12.0"
  }
 },
 "nbformat": 4,
 "nbformat_minor": 2
}
