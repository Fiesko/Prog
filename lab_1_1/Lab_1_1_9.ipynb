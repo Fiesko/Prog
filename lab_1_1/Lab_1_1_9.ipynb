{
 "cells": [
  {
   "cell_type": "code",
   "execution_count": 5,
   "metadata": {},
   "outputs": [
    {
     "name": "stdout",
     "output_type": "stream",
     "text": [
      "объект\n",
      "ориентир\n",
      "тир\n",
      "кот\n",
      "рента\n"
     ]
    }
   ],
   "source": [
    "# Задание task_01_09.\n",
    "#\n",
    "# Выполнил: Малеванный И.Б.\n",
    "# Группа: ЦИБ-241\n",
    "# E-mail: malevannyiib@mgpu.ru\n",
    "\n",
    "\n",
    "word = \"объектно-ориентированный\"\n",
    "\n",
    "w1 = word[:6]  # (слово объект)\n",
    "w2 = word[9:17]\n",
    "w3 = word[14:17]\n",
    "w4 = word[4]+word[7]+word[5]\n",
    "w5 = word[10]+word[12:15]+word[19]\n",
    "\n",
    "print(w1, w2, w3, w4, w5, sep=\"\\n\")\n",
    "\n",
    "\n",
    "# --------------\n",
    "# Пример вывода:\n",
    "#\n",
    "# объект\n",
    "# ориентир\n",
    "# тир\n",
    "# кот\n",
    "# рента"
   ]
  }
 ],
 "metadata": {
  "kernelspec": {
   "display_name": "Python 3",
   "language": "python",
   "name": "python3"
  },
  "language_info": {
   "codemirror_mode": {
    "name": "ipython",
    "version": 3
   },
   "file_extension": ".py",
   "mimetype": "text/x-python",
   "name": "python",
   "nbconvert_exporter": "python",
   "pygments_lexer": "ipython3",
   "version": "3.12.0"
  }
 },
 "nbformat": 4,
 "nbformat_minor": 2
}
