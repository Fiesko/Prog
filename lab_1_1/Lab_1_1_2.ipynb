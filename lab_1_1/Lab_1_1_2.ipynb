{
 "cells": [
  {
   "cell_type": "code",
   "execution_count": 1,
   "metadata": {},
   "outputs": [
    {
     "name": "stdout",
     "output_type": "stream",
     "text": [
      "x = 0\n",
      "y = 1\n",
      "z = 2\n",
      "0.15\n"
     ]
    }
   ],
   "source": [
    "# Задание task_01_02.\n",
    "#\n",
    "# Выполнил: Малеванный И.Б.\n",
    "# Группа: ЦИБ-241\n",
    "\n",
    "\n",
    "x = int(input('x =')) #ввод чисел\n",
    "y = int(input('y =')) #ввод чисел\n",
    "z = int(input('z =')) #ввод чисел\n",
    "\n",
    "print('x =',x) # для вывода исходных данных,чтобы было соответсвие выводу из тз\n",
    "print('y =',y) # для вывода исходных данных,чтобы было соответсвие выводу из тз\n",
    "print('z =',z) # для вывода исходных данных,чтобы было соответсвие выводу из тз\n",
    "\n",
    "res = (((x**5 + 7)/(abs(-6)*y))**(1/3))/(7 - z % y) # само мат.выражение\n",
    "print(round(res,2)) # результат с округлением до 3 знаков\n",
    "\n",
    "\n",
    "\n",
    "# --------------\n",
    "# Пример вывода:\n",
    "#\n",
    "# x=0\n",
    "# y=1\n",
    "# z=2\n",
    "# 0.15"
   ]
  }
 ],
 "metadata": {
  "kernelspec": {
   "display_name": "Python 3",
   "language": "python",
   "name": "python3"
  },
  "language_info": {
   "codemirror_mode": {
    "name": "ipython",
    "version": 3
   },
   "file_extension": ".py",
   "mimetype": "text/x-python",
   "name": "python",
   "nbconvert_exporter": "python",
   "pygments_lexer": "ipython3",
   "version": "3.12.0"
  }
 },
 "nbformat": 4,
 "nbformat_minor": 2
}
