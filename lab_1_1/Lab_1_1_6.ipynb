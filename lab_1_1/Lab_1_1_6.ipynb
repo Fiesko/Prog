{
 "cells": [
  {
   "cell_type": "code",
   "execution_count": 1,
   "metadata": {},
   "outputs": [
    {
     "name": "stdout",
     "output_type": "stream",
     "text": [
      "Введите a = 1\n",
      "Введите b = 2\n",
      "Введите m = -5\n",
      "Введите n = 5\n",
      "Попадает: True\n"
     ]
    }
   ],
   "source": [
    "# Задание task_01_06.\n",
    "#\n",
    "# Выполнил: Малеванный И.Б.\n",
    "# Группа: ЦИБ-241\n",
    "\n",
    "\n",
    "a = int(input(\"Введите a\"))\n",
    "b = int(input(\"Введите b\"))\n",
    "m = int(input(\"Введите m\"))\n",
    "n = int(input(\"Введите n\"))\n",
    "x = -b / a \n",
    "\n",
    "is_ok = bool(m <= x <= n)\n",
    "\n",
    "print(\"Введите a =\",a)\n",
    "print(\"Введите b =\",b)\n",
    "print(\"Введите m =\",m)\n",
    "print(\"Введите n =\",n)\n",
    "print(\"Попадает:\",is_ok)\n",
    "\n",
    "\n",
    "# --------------\n",
    "# Пример вывода:\n",
    "#\n",
    "# Введите a = 1\n",
    "# Введите b = 2\n",
    "# Введите m = -5\n",
    "# Введите n = 5\n",
    "# Попадает: True"
   ]
  }
 ],
 "metadata": {
  "kernelspec": {
   "display_name": "Python 3",
   "language": "python",
   "name": "python3"
  },
  "language_info": {
   "codemirror_mode": {
    "name": "ipython",
    "version": 3
   },
   "file_extension": ".py",
   "mimetype": "text/x-python",
   "name": "python",
   "nbconvert_exporter": "python",
   "pygments_lexer": "ipython3",
   "version": "3.12.0"
  }
 },
 "nbformat": 4,
 "nbformat_minor": 2
}
