{
 "cells": [
  {
   "cell_type": "code",
   "execution_count": 5,
   "metadata": {},
   "outputs": [
    {
     "name": "stdout",
     "output_type": "stream",
     "text": [
      "Введите название государства:  Россия\n",
      "Введите название столицы:  Москва\n",
      "Государство - Россия , столица - Москва\n"
     ]
    }
   ],
   "source": [
    "# Задание task_01_08.\n",
    "#\n",
    "# Выполнил: Малеванный И.Б\n",
    "# Группа: ЦИБ-241\n",
    "\n",
    "\n",
    "# Название государства\n",
    "country = input(\"Введите название государства\")\n",
    "# Название столицы\n",
    "capital = input(\"Введите название столицы\")\n",
    "\n",
    "print(\"Введите название государства: \", country)\n",
    "print(\"Введите название столицы: \", capital)\n",
    "print(\"Государство - {} , столица - {}\".format(country,capital))\n",
    "\n",
    "\n",
    "# --------------\n",
    "# Пример вывода:\n",
    "#\n",
    "# Введите название государства: Россия\n",
    "# Введите название столицы: Москва\n",
    "# Государство - Россия, столица - Москва"
   ]
  }
 ],
 "metadata": {
  "kernelspec": {
   "display_name": "Python 3",
   "language": "python",
   "name": "python3"
  },
  "language_info": {
   "codemirror_mode": {
    "name": "ipython",
    "version": 3
   },
   "file_extension": ".py",
   "mimetype": "text/x-python",
   "name": "python",
   "nbconvert_exporter": "python",
   "pygments_lexer": "ipython3",
   "version": "3.12.0"
  }
 },
 "nbformat": 4,
 "nbformat_minor": 2
}
