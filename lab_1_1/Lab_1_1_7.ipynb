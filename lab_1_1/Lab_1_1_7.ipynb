{
 "cells": [
  {
   "cell_type": "code",
   "execution_count": 15,
   "metadata": {},
   "outputs": [
    {
     "name": "stdout",
     "output_type": "stream",
     "text": [
      "Введите название команды: Спартак\n",
      "Спартак - чемпион!\n",
      "-------\n",
      "Символов в названии команды: 7\n",
      "Буква \"п\" есть: True\n",
      "Количество букв \"а\": 2\n"
     ]
    }
   ],
   "source": [
    "# Задание task_01_07.\n",
    "#\n",
    "# Выполнил: Малеванный И.Б.\n",
    "# Группа: ЦИБ-241\n",
    "\n",
    "\n",
    "team = input(\"Введите название команды: \")\n",
    "\n",
    "print(\"Введите название команды:\",team)\n",
    "\n",
    "print(team,\"- чемпион!\")\n",
    "dlina=len(team)\n",
    "defis = \"-\"\n",
    "print(defis*dlina)\n",
    "\n",
    "\n",
    "# Название команды в нижнем регистре\n",
    "team_lowercase =  team.lower()\n",
    "print(\"Символов в названии команды:\",len(team_lowercase))\n",
    "print('Буква \"п\" есть:',\"п\" in team_lowercase )\n",
    "print('Количество букв \"а\":',team_lowercase.count(\"а\"))\n",
    "\n",
    "\n",
    "# --------------\n",
    "# Пример вывода:\n",
    "#\n",
    "# Введите название команды: Спартак\n",
    "# Спартак - чемпион!\n",
    "# -------\n",
    "# Символов в названии команды: 7\n",
    "# Буква \"п\" есть: True\n",
    "# Количество букв \"а\": 2"
   ]
  }
 ],
 "metadata": {
  "kernelspec": {
   "display_name": "Python 3",
   "language": "python",
   "name": "python3"
  },
  "language_info": {
   "codemirror_mode": {
    "name": "ipython",
    "version": 3
   },
   "file_extension": ".py",
   "mimetype": "text/x-python",
   "name": "python",
   "nbconvert_exporter": "python",
   "pygments_lexer": "ipython3",
   "version": "3.12.0"
  }
 },
 "nbformat": 4,
 "nbformat_minor": 2
}
