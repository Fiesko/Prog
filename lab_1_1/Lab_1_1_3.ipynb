{
 "cells": [
  {
   "cell_type": "code",
   "execution_count": 4,
   "metadata": {},
   "outputs": [
    {
     "name": "stdout",
     "output_type": "stream",
     "text": [
      "r1 = 12.2\n",
      "r2 = 16.1\n",
      "28.3\n"
     ]
    }
   ],
   "source": [
    "# Задание task_01_03.\n",
    "#\n",
    "# Выполнил: Малеванный И.Б.\n",
    "# Группа: ЦИБ-241\n",
    "\n",
    "\n",
    "# Сопротивление первого проводника\n",
    "r1 = float(input(\"r1\")) #используем вместо int,float так как число может быть вещественное\n",
    "# Сопротивление второго проводника\n",
    "r2 = float(input(\"r2\")) #используем вместо int,float так как число может быть вещественное\n",
    "\n",
    "print(\"r1 =\",r1)  # для вывода исходных данных,чтобы было соответсвие выводу из тз\n",
    "print(\"r2 =\",r2)  # для вывода исходных данных,чтобы было соответсвие выводу из тз\n",
    "\n",
    "# Общее сопротивление\n",
    "r = r1 + r2\n",
    "\n",
    "print(round(r,1)) #ответ с округлением до 1 после знака\n",
    "\n",
    "\n",
    "# --------------\n",
    "# Пример вывода:\n",
    "#\n",
    "# r1=12.2\n",
    "# r2=16.1\n",
    "# 28.3"
   ]
  }
 ],
 "metadata": {
  "kernelspec": {
   "display_name": "Python 3",
   "language": "python",
   "name": "python3"
  },
  "language_info": {
   "codemirror_mode": {
    "name": "ipython",
    "version": 3
   },
   "file_extension": ".py",
   "mimetype": "text/x-python",
   "name": "python",
   "nbconvert_exporter": "python",
   "pygments_lexer": "ipython3",
   "version": "3.12.0"
  }
 },
 "nbformat": 4,
 "nbformat_minor": 2
}
